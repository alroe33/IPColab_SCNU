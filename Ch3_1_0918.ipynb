{
  "nbformat": 4,
  "nbformat_minor": 0,
  "metadata": {
    "colab": {
      "private_outputs": true,
      "provenance": []
    },
    "kernelspec": {
      "name": "python3",
      "display_name": "Python 3"
    },
    "language_info": {
      "name": "python"
    }
  },
  "cells": [
    {
      "cell_type": "code",
      "execution_count": null,
      "metadata": {
        "id": "GJa8xcfRcVIF"
      },
      "outputs": [],
      "source": [
        "from google.colab import drive\n",
        "from google.colab.patches import cv2_imshow\n",
        "import cv2\n",
        "import numpy as np\n",
        "import matplotlib.pyplot as plt\n",
        "\n",
        "drive.mount('/content/drive')"
      ]
    },
    {
      "cell_type": "code",
      "source": [
        "img=cv2.imread('/content/drive/MyDrive/IP/Images/aero2.bmp')\n",
        "print(img.shape)\n",
        "gImg1=cv2.cvtColor(img,cv2.COLOR_BGR2GRAY)\n",
        "plt.imshow(gImg1,cmap='gray')"
      ],
      "metadata": {
        "id": "yNqhLHMScgVz"
      },
      "execution_count": null,
      "outputs": []
    },
    {
      "cell_type": "code",
      "source": [
        "img=cv2.imread('/content/drive/MyDrive/IP/Images/milkdrop.bmp')\n",
        "print(img.shape)\n",
        "gImg2=cv2.cvtColor(img,cv2.COLOR_BGR2GRAY)\n",
        "plt.imshow(gImg2,cmap='gray')"
      ],
      "metadata": {
        "id": "KemKph1_dnLs"
      },
      "execution_count": null,
      "outputs": []
    },
    {
      "cell_type": "code",
      "source": [
        "gPlus=np.zeros((gImg1.shape[0],gImg1.shape[1]),dtype=np.ubyte)"
      ],
      "metadata": {
        "id": "p6ZL0BIlbQNz"
      },
      "execution_count": null,
      "outputs": []
    },
    {
      "cell_type": "code",
      "source": [
        "for h in range(gImg1.shape[0]):\n",
        "  for w in range(gImg1.shape[1]):\n",
        "    #gPlus[h,w]=gImg1[h,w]+gImg2[h,w]\n",
        "    pValue=(np.int32(gImg1[h,w])+np.int32(gImg2[h,w]))\n",
        "    if pValue>255:\n",
        "      gPlus[h,w]=255\n",
        "    else:\n",
        "      gPlus[h,w]=pValue\n",
        "plt.imshow(gPlus,cmap='gray')"
      ],
      "metadata": {
        "id": "mTavtmqVczy4"
      },
      "execution_count": null,
      "outputs": []
    },
    {
      "cell_type": "code",
      "source": [
        "for h in range(gImg1.shape[0]):\n",
        "  for w in range(gImg1.shape[1]):\n",
        "    gPlus[h,w]=gImg1[h,w]*0.5+gImg2[h,w]*0.5\n",
        "plt.imshow(gPlus,cmap='gray')"
      ],
      "metadata": {
        "id": "qA4imPbqeVao"
      },
      "execution_count": null,
      "outputs": []
    },
    {
      "cell_type": "code",
      "source": [],
      "metadata": {
        "id": "t0oPf3XOht9d"
      },
      "execution_count": null,
      "outputs": []
    },
    {
      "cell_type": "code",
      "source": [
        "gPlus=cv2.add(gImg1*0.5,gImg2*0.5)\n",
        "plt.imshow(gPlus,cmap='gray')"
      ],
      "metadata": {
        "id": "incuF_vPfBWE"
      },
      "execution_count": null,
      "outputs": []
    },
    {
      "cell_type": "code",
      "source": [
        "\n",
        "gMinu=np.zeros((gImg1.shape[0],gImg1.shape[1]),dtype=np.ubyte)"
      ],
      "metadata": {
        "id": "9fZoPUW-hyK0"
      },
      "execution_count": null,
      "outputs": []
    },
    {
      "cell_type": "code",
      "source": [
        "for h in range(gImg1.shape[0]):\n",
        "  for w in range(gImg1.shape[1]):\n",
        "    gMinu=np.abs(np.int32(gImg1.shape[0])-np.int32(gImg1.shape[1]))\n",
        "\n",
        "    plt.imshow(gMinu,cmap='gray')"
      ],
      "metadata": {
        "id": "2zqZuLTkhy8Y"
      },
      "execution_count": null,
      "outputs": []
    },
    {
      "cell_type": "code",
      "source": [
        "img=cv2.imread('/content/drive/MyDrive/IP/Images/milkdrop.bmp')\n",
        "print(img.shape)\n",
        "gImg1=cv2.cvtColor(img,cv2.COLOR_BGR2GRAY)\n",
        "plt.imshow(gImg1,cmap='gray')"
      ],
      "metadata": {
        "id": "tc_NiirSiJbb"
      },
      "execution_count": null,
      "outputs": []
    },
    {
      "cell_type": "code",
      "source": [
        "img=cv2.imread('/content/drive/MyDrive/IP/Images/milkdrop1.bmp')\n",
        "print(img.shape)\n",
        "gImg2=cv2.cvtColor(img,cv2.COLOR_BGR2GRAY)\n",
        "plt.imshow(gImg2,cmap='gray')"
      ],
      "metadata": {
        "id": "n3EL3Hcdif9g"
      },
      "execution_count": null,
      "outputs": []
    },
    {
      "cell_type": "code",
      "source": [
        "gMinus=np.zeros((gImg1.shape[0],gImg1.shape[1]),dtype=np.ubyte)\n",
        "for h in range(gImg1.shape[0]):\n",
        "  for w in range(gImg1.shape[1]):\n",
        "    gMinus[h,w]=np.abs(np.int32(gImg1[h,w])-np.int32(gImg2[h,w]))\n",
        "\n",
        "plt.imshow(gMinus, cmap='gray')"
      ],
      "metadata": {
        "id": "oq5GEV7Oisqg"
      },
      "execution_count": null,
      "outputs": []
    },
    {
      "cell_type": "code",
      "source": [
        "gimg1=cv2.imread('/content/drive/MyDrive/IP/Images/girl.jpg')\n",
        "print(img.shape)\n",
        "gImg1=cv2.cvtColor(img,cv2.COLOR_BGR2GRAY)\n",
        "plt.imshow(gImg1,cmap='gray')"
      ],
      "metadata": {
        "id": "rDsZThDkjPQT"
      },
      "execution_count": null,
      "outputs": []
    },
    {
      "cell_type": "code",
      "source": [
        "gMul=np.zeros((gImg1.shape[0],gImg1.shape[1]),dtype=np.ubyte)\n",
        "\n",
        "val=0.1\n",
        "for h in range(gImg1.shape[0]):\n",
        "  for w in range(gImg1.shape[1]):\n",
        "    mulVal=(np.int32(gImg1[h,w]))*val\n",
        "    if mulVal>255:\n",
        "      gMul[h,w]=255\n",
        "    else:\n",
        "      gMul[h,w]=mulVal\n",
        "\n",
        "plt.imshow(gMul, cmap='gray')"
      ],
      "metadata": {
        "id": "52CuaD6Xjg5O"
      },
      "execution_count": null,
      "outputs": []
    }
  ]
}