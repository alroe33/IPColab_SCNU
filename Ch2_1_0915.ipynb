{
  "nbformat": 4,
  "nbformat_minor": 0,
  "metadata": {
    "colab": {
      "private_outputs": true,
      "provenance": []
    },
    "kernelspec": {
      "name": "python3",
      "display_name": "Python 3"
    },
    "language_info": {
      "name": "python"
    }
  },
  "cells": [
    {
      "cell_type": "code",
      "execution_count": null,
      "metadata": {
        "id": "eIraz7GsMqcC"
      },
      "outputs": [],
      "source": [
        "from google.colab import drive\n",
        "from google.colab.patches import cv2_imshow\n",
        "import cv2\n",
        "import numpy as np\n",
        "import matplotlib.pyplot as plt\n",
        "\n",
        "drive.mount('/content/drive')"
      ]
    },
    {
      "cell_type": "code",
      "source": [
        "img=cv2.imread('/content/drive/MyDrive/IP/Images/lena256.jpg')\n",
        "print(img.shape)\n",
        "cv2_imshow(img)"
      ],
      "metadata": {
        "id": "ZT2qlGKdNyGR"
      },
      "execution_count": null,
      "outputs": []
    },
    {
      "cell_type": "code",
      "source": [
        "RGB_img=cv2.cvtColor(img,cv2.COLOR_BGR2RGB)"
      ],
      "metadata": {
        "id": "e9Gbk6UqSAZs"
      },
      "execution_count": null,
      "outputs": []
    },
    {
      "cell_type": "code",
      "source": [
        "plt.imshow(RGB_img)"
      ],
      "metadata": {
        "id": "rp5NeePtSaFU"
      },
      "execution_count": null,
      "outputs": []
    },
    {
      "cell_type": "code",
      "source": [
        "R_img, G_img, B_img = cv2.split(RGB_img)"
      ],
      "metadata": {
        "id": "Qeg6ci9NTeeo"
      },
      "execution_count": null,
      "outputs": []
    },
    {
      "cell_type": "code",
      "source": [
        "print(R_img.shape)"
      ],
      "metadata": {
        "id": "vgEvodRXTvDh"
      },
      "execution_count": null,
      "outputs": []
    },
    {
      "cell_type": "code",
      "source": [
        "Cimg=RGB_img"
      ],
      "metadata": {
        "id": "LQ3PFB1ST-CM"
      },
      "execution_count": null,
      "outputs": []
    },
    {
      "cell_type": "code",
      "source": [
        "Cimg[:,:,0]=R_img\n",
        "Cimg[:,:,1]=R_img\n",
        "Cimg[:,:,2]=R_img"
      ],
      "metadata": {
        "id": "nCnIC0W4UGvk"
      },
      "execution_count": null,
      "outputs": []
    },
    {
      "cell_type": "code",
      "source": [
        "plt.imshow(Cimg)"
      ],
      "metadata": {
        "id": "UgiuY5CbUZXY"
      },
      "execution_count": null,
      "outputs": []
    },
    {
      "cell_type": "code",
      "source": [
        "Cimg[:,:,0]=G_img\n",
        "Cimg[:,:,1]=G_img\n",
        "Cimg[:,:,2]=G_img"
      ],
      "metadata": {
        "id": "m8zGqukQUtWt"
      },
      "execution_count": null,
      "outputs": []
    },
    {
      "cell_type": "code",
      "source": [
        "plt.imshow(Cimg)"
      ],
      "metadata": {
        "id": "XwddGL7vU1U8"
      },
      "execution_count": null,
      "outputs": []
    },
    {
      "cell_type": "code",
      "source": [
        "Cimg[:,:,0]=B_img\n",
        "Cimg[:,:,1]=B_img\n",
        "Cimg[:,:,2]=B_img"
      ],
      "metadata": {
        "id": "tL4qRqGcU6-f"
      },
      "execution_count": null,
      "outputs": []
    },
    {
      "cell_type": "code",
      "source": [
        "plt.imshow(Cimg)"
      ],
      "metadata": {
        "id": "5uelbW-pVAYA"
      },
      "execution_count": null,
      "outputs": []
    },
    {
      "cell_type": "code",
      "source": [
        "HSV_img=cv2.cvtColor(RGB_img,cv2.COLOR_RGB2HSV)"
      ],
      "metadata": {
        "id": "Izl1dYCTVJEI"
      },
      "execution_count": null,
      "outputs": []
    },
    {
      "cell_type": "code",
      "source": [
        "H_img, S_img, V_img = cv2.split(HSV_img)\n",
        "Cimg[:,:,0]=H_img\n",
        "Cimg[:,:,1]=H_img\n",
        "Cimg[:,:,2]=H_img\n",
        "plt.imshow(Cimg)"
      ],
      "metadata": {
        "id": "Zp6vh881VdV4"
      },
      "execution_count": null,
      "outputs": []
    },
    {
      "cell_type": "code",
      "source": [],
      "metadata": {
        "id": "PrJI5DzjWRua"
      },
      "execution_count": null,
      "outputs": []
    }
  ]
}