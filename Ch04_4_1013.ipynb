{
  "nbformat": 4,
  "nbformat_minor": 0,
  "metadata": {
    "colab": {
      "private_outputs": true,
      "provenance": []
    },
    "kernelspec": {
      "name": "python3",
      "display_name": "Python 3"
    },
    "language_info": {
      "name": "python"
    }
  },
  "cells": [
    {
      "cell_type": "code",
      "execution_count": null,
      "metadata": {
        "id": "Bip_0m3CUZH_"
      },
      "outputs": [],
      "source": [
        "from google.colab import drive\n",
        "from google.colab.patches import cv2_imshow\n",
        "import cv2\n",
        "import numpy as np\n",
        "import matplotlib.pyplot as plt\n",
        "\n",
        "drive.mount('/content/drive')"
      ]
    },
    {
      "cell_type": "code",
      "source": [
        "\n",
        "img=cv2.imread('/content/drive/MyDrive/IP/Images/girl.jpg')\n",
        "\n",
        "print(img.shape)\n",
        "gImg1=cv2.cvtColor(img,cv2.COLOR_BGR2GRAY)\n",
        "#plt.imshow(gImg1,cmap='gray')\n",
        "cv2_imshow(gImg1)"
      ],
      "metadata": {
        "id": "s-sJqP7-Umtj"
      },
      "execution_count": null,
      "outputs": []
    },
    {
      "cell_type": "code",
      "source": [
        "outImg=np.zeros(gImg1.shape,dtype=\"uint8\")"
      ],
      "metadata": {
        "id": "aWIZkf_6i1CN"
      },
      "execution_count": null,
      "outputs": []
    },
    {
      "cell_type": "code",
      "source": [
        "outImg=cv2.equalizeHist(gImg1)\n",
        "cv2_imshow(outImg)"
      ],
      "metadata": {
        "id": "sk1dwIMIjTB1"
      },
      "execution_count": null,
      "outputs": []
    },
    {
      "cell_type": "code",
      "source": [
        "hist=cv2.calcHist([gImg1],[0],None,[256],[0,256])\n",
        "plt.plot(hist)"
      ],
      "metadata": {
        "id": "ZF9HXrqjjV7E"
      },
      "execution_count": null,
      "outputs": []
    },
    {
      "cell_type": "code",
      "source": [
        "hist=cv2.calcHist([outImg],[0],None,[256],[0,256])\n",
        "plt.plot(hist)"
      ],
      "metadata": {
        "id": "1AdSwB6dja4S"
      },
      "execution_count": null,
      "outputs": []
    },
    {
      "cell_type": "code",
      "source": [
        "myHist=np.zeros((256,1), dtype=np.int32)"
      ],
      "metadata": {
        "id": "eAa-d2vRjoXH"
      },
      "execution_count": null,
      "outputs": []
    },
    {
      "cell_type": "markdown",
      "source": [
        "히스토그램만들기"
      ],
      "metadata": {
        "id": "A8pkWbifk_du"
      }
    },
    {
      "cell_type": "code",
      "source": [
        "for h in range(gImg1.shape[0]):\n",
        "  for w in range(gImg1.shape[1]):\n",
        "    myHist[outImg[h,w]]+=1\n",
        "plt.plot(myHist)"
      ],
      "metadata": {
        "id": "GqDSDPZwj5pP"
      },
      "execution_count": null,
      "outputs": []
    },
    {
      "cell_type": "code",
      "source": [
        "cumulHist=np.zeros((256,1), dtype=np.int32)"
      ],
      "metadata": {
        "id": "Z9W-ugzblMN8"
      },
      "execution_count": null,
      "outputs": []
    },
    {
      "cell_type": "code",
      "source": [
        "cumulHist[0]=myHist[0]\n",
        "for i in range(1,256):\n",
        "  cumulHist[i]=cumulHist[i-1]+myHist[i]\n",
        "\n",
        "plt.plot(cumulHist)"
      ],
      "metadata": {
        "id": "KlLUJQHtlUx8"
      },
      "execution_count": null,
      "outputs": []
    },
    {
      "cell_type": "markdown",
      "source": [
        "히스토그램평활화"
      ],
      "metadata": {
        "id": "li66toIhm3ce"
      }
    },
    {
      "cell_type": "code",
      "source": [
        "equalHist=np.zeros((256,1), dtype=np.int32)"
      ],
      "metadata": {
        "id": "9a0Z42DHm53M"
      },
      "execution_count": null,
      "outputs": []
    },
    {
      "cell_type": "code",
      "source": [
        "numOfPixel=gImg1.shape[0]*gImg1.shape[1]\n",
        "equalHist=cumulHist/numOfPixel\n",
        "equalHist=equalHist*255\n",
        "\n",
        "plt.plot(equalHist)"
      ],
      "metadata": {
        "id": "xXkNGwNOnVdl"
      },
      "execution_count": null,
      "outputs": []
    },
    {
      "cell_type": "code",
      "source": [
        "for h in range(gImg1.shape[0]):\n",
        "  for w in range(gImg1.shape[1]):\n",
        "    outImg[h,w]=equalHist[gImg1[h,w]]\n",
        "\n",
        "cv2_imshow(outImg)"
      ],
      "metadata": {
        "id": "Hlr0GCZqoFsH"
      },
      "execution_count": null,
      "outputs": []
    }
  ]
}