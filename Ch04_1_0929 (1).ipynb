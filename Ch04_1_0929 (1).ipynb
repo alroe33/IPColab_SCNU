{
  "nbformat": 4,
  "nbformat_minor": 0,
  "metadata": {
    "colab": {
      "private_outputs": true,
      "provenance": []
    },
    "kernelspec": {
      "name": "python3",
      "display_name": "Python 3"
    },
    "language_info": {
      "name": "python"
    }
  },
  "cells": [
    {
      "cell_type": "code",
      "execution_count": null,
      "metadata": {
        "id": "VImmQKu-SDv2"
      },
      "outputs": [],
      "source": [
        "from google.colab import drive\n",
        "from google.colab.patches import cv2_imshow\n",
        "import cv2\n",
        "import numpy as np\n",
        "import matplotlib.pyplot as plt\n",
        "\n",
        "drive.mount('/content/drive')"
      ]
    },
    {
      "cell_type": "code",
      "source": [
        "#img=cv2.imread('/content/drive/MyDrive/IP/Images/rice.bmp')\n",
        "#img=cv2.imread('/content/drive/MyDrive/IP/Images/lena256.jpg')\n",
        "#img=cv2.imread('/content/drive/MyDrive/IP/Images/cell.bmp')\n",
        "#img=cv2.imread('/content/drive/MyDrive/IP/Images/milkdrop.bmp')\n",
        "img=cv2.imread('/content/drive/MyDrive/IP/Images/cell-bright.bmp')\n",
        "print(img.shape)\n",
        "gImg1=cv2.cvtColor(img,cv2.COLOR_BGR2GRAY)\n",
        "#plt.imshow(gImg1,cmap='gray')\n",
        "cv2_imshow(gImg1)"
      ],
      "metadata": {
        "id": "C5sIBOgNSRhF"
      },
      "execution_count": null,
      "outputs": []
    },
    {
      "cell_type": "code",
      "source": [
        "hist=cv2.calcHist([gImg1],[0],None,[256],[0,255])\n",
        "plt.plot(hist)"
      ],
      "metadata": {
        "id": "DxFPGfi_Sk8u"
      },
      "execution_count": null,
      "outputs": []
    },
    {
      "cell_type": "code",
      "source": [
        "gBin=np.zeros((gImg1.shape[0], gImg1.shape[1]), dtype=np.ubyte)"
      ],
      "metadata": {
        "id": "fSCrBINpXkrE"
      },
      "execution_count": null,
      "outputs": []
    },
    {
      "cell_type": "code",
      "source": [
        "Threshold=180\n",
        "for h in range(gImg1.shape[0]):\n",
        "    for w in range(gImg1.shape[1]):\n",
        "        if gImg1[h,w]>Threshold:\n",
        "            gBin[h,w]=0\n",
        "        else:\n",
        "            gBin[h,w]=255\n",
        "\n",
        "cv2_imshow(gBin)"
      ],
      "metadata": {
        "id": "YPPMFo5WXZSd"
      },
      "execution_count": null,
      "outputs": []
    },
    {
      "cell_type": "code",
      "source": [
        "T1=150\n",
        "T2=0\n",
        "T0=1"
      ],
      "metadata": {
        "id": "BhBf1MNCc2Pl"
      },
      "execution_count": null,
      "outputs": []
    },
    {
      "cell_type": "code",
      "source": [
        "def threshold_update(img, bImg):\n",
        "    sum1=0\n",
        "    count1=1\n",
        "    sum2=0\n",
        "    count2=1\n",
        "    for h in range(img.shape[0]):\n",
        "        for w in range(img.shape[1]):\n",
        "            if(bImg[h,w]==0):\n",
        "                sum1+=img[h,w]\n",
        "                count1+=1\n",
        "            else:\n",
        "                sum2=img[h,w]\n",
        "                count2+=1\n",
        "        avg1=sum1/count1\n",
        "        avg2=sum2/count2\n",
        "        T=(avg1+avg2)/2\n",
        "        return T"
      ],
      "metadata": {
        "id": "L4NxUvOWdK6S"
      },
      "execution_count": null,
      "outputs": []
    },
    {
      "cell_type": "code",
      "source": [
        "for h in range(img.shape[0]):\n",
        "    for w in range(img.shape[1]):\n",
        "        if gImg1[h,w]>T1:\n",
        "            gBin[h,w]=255\n",
        "        else:\n",
        "            gBin[h,w]=0\n",
        "\n",
        "cv2_imshow(gBin)"
      ],
      "metadata": {
        "id": "y-yLV6uRe-LF"
      },
      "execution_count": null,
      "outputs": []
    },
    {
      "cell_type": "code",
      "source": [
        "while True:\n",
        "    T2=threshold_update(gImg1, gBin)\n",
        "    print(T2)\n",
        "\n",
        "    if(np.abs(T1-T2)<T0):\n",
        "        break;\n",
        "    else:\n",
        "        T1=T2\n",
        "        for h in range(img.shape[0]):\n",
        "            for w in range(img.shape[1]):\n",
        "                if gImg1[h,w]>T1:\n",
        "                    gBin[h,w]=0\n",
        "                else:\n",
        "                    gBin[h,w]=255\n",
        "\n",
        "print(T2)\n",
        "cv2_imshow(gBin)"
      ],
      "metadata": {
        "id": "pxpKN8OAiKYU"
      },
      "execution_count": null,
      "outputs": []
    },
    {
      "cell_type": "code",
      "source": [
        "N=10\n",
        "\n",
        "dimh=np.int32(gImg1.shape[0]/N)\n",
        "dimw=np.int32(gImg1.shape[1]/N)\n",
        "\n",
        "dh_rest=np.int32(gImg1.shape[0]%N)\n",
        "dw_rest=np.int32(gImg1.shape[1]%N)\n",
        "\n",
        "meanImg=np.zeros((N,N))\n",
        "outImg=np.zeros((gImg1.shape[0], gImg1.shape[1]), dtype=np.ubyte)\n"
      ],
      "metadata": {
        "id": "GxbgoBRxiQR9"
      },
      "execution_count": null,
      "outputs": []
    },
    {
      "cell_type": "code",
      "source": [
        "def mean_function(Img, dimh, dimw, h, w):\n",
        "    count=1\n",
        "    sum=np.int64(0)\n",
        "    avg=0\n",
        "\n",
        "    for y in range(h,h+dimh):\n",
        "        for x in range(w, w+dimw):\n",
        "            sum=sum+Img[y,x]\n",
        "            count+=1\n",
        "    avg=np.int32(sum/count)\n",
        "    return avg"
      ],
      "metadata": {
        "id": "ApIlRqcYiROv"
      },
      "execution_count": null,
      "outputs": []
    },
    {
      "cell_type": "code",
      "source": [
        "for h in range(0, gImg1.shape[0]-dh_rest,dimh):\n",
        "    for w in range(0, gImg1.shape[1]-dw_rest, dimw):\n",
        "         if(w+dimh < gImg1.shape[0] and w+dimw<gImg1.shape[1]):\n",
        "              meanImg[np.int32(h//dimh),np.int32( w//dimw)]=mean_function(gImg1, dimh, dimw, h, w)"
      ],
      "metadata": {
        "id": "l1Xke7zqjMCu"
      },
      "execution_count": null,
      "outputs": []
    },
    {
      "cell_type": "code",
      "source": [
        "for h in range(0,gImg1.shape[0]-dh_rest,dimh):\n",
        "    for w in range(0,gImg1.shape[1]-dw_rest,dimw):\n",
        "        if(gImg1[h,w]>=meanImg[np.int32(h//dimh),np.int32(w//dimw)]):\n",
        "            outImg[h,w]=0\n",
        "        else:\n",
        "            outImg[h,w]=255"
      ],
      "metadata": {
        "id": "Fj08LnGijTqi"
      },
      "execution_count": null,
      "outputs": []
    },
    {
      "cell_type": "code",
      "source": [
        "print(meanImg)\n",
        "cv2_imshow(outImg)"
      ],
      "metadata": {
        "id": "BzITLUtxjhaS"
      },
      "execution_count": null,
      "outputs": []
    }
  ]
}