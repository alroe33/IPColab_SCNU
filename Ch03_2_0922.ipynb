{
  "nbformat": 4,
  "nbformat_minor": 0,
  "metadata": {
    "colab": {
      "private_outputs": true,
      "provenance": []
    },
    "kernelspec": {
      "name": "python3",
      "display_name": "Python 3"
    },
    "language_info": {
      "name": "python"
    }
  },
  "cells": [
    {
      "cell_type": "code",
      "execution_count": null,
      "metadata": {
        "id": "Fc07XwoeRq-g"
      },
      "outputs": [],
      "source": [
        "from google.colab import drive\n",
        "from google.colab.patches import cv2_imshow\n",
        "import cv2\n",
        "import numpy as np\n",
        "import matplotlib.pyplot as plt\n",
        "\n",
        "drive.mount('/content/drive')"
      ]
    },
    {
      "cell_type": "code",
      "source": [
        "img=cv2.imread('/content/drive/MyDrive/IP/Images/lena.jpg')\n",
        "print(img.shape)\n",
        "gImg1=cv2.cvtColor(img,cv2.COLOR_BGR2GRAY)\n",
        "plt.imshow(gImg1,cmap='gray')"
      ],
      "metadata": {
        "id": "ZbtlTSxNR516"
      },
      "execution_count": null,
      "outputs": []
    },
    {
      "cell_type": "code",
      "source": [
        "def saturation(val):\n",
        "    if val > 255:\n",
        "      return 255\n",
        "    elif val < 0:\n",
        "      return 0\n",
        "    else:\n",
        "      return val"
      ],
      "metadata": {
        "id": "_Rv3NdfmSbqd"
      },
      "execution_count": null,
      "outputs": []
    },
    {
      "cell_type": "code",
      "source": [
        "gPoint=np.zeros((gImg1.shape[0],gImg1.shape[1]),dtype=np.ubyte)"
      ],
      "metadata": {
        "id": "DiY_3P0VSkHT"
      },
      "execution_count": null,
      "outputs": []
    },
    {
      "cell_type": "markdown",
      "source": [
        "역변환 실습"
      ],
      "metadata": {
        "id": "ShRIXZF0TNQd"
      }
    },
    {
      "cell_type": "code",
      "source": [
        "for h in range(gImg1.shape[0]):\n",
        "  for w in range(gImg1.shape[1]):\n",
        "    pointVal=255-(np.int32(gImg1[h,w]))\n",
        "    gPoint[h,w]=saturation(pointVal)\n",
        "\n",
        "    plt.imshow(gPoint,cmap='gray')"
      ],
      "metadata": {
        "id": "5ql_hj1lS4o1"
      },
      "execution_count": null,
      "outputs": []
    },
    {
      "cell_type": "code",
      "source": [
        "th=128\n",
        "\n",
        "for h in range(gImg1.shape[0]):\n",
        "  for w in range(gImg1.shape[1]):\n",
        "    if gImg1[h,w] > th:\n",
        "      gPoint[h,w]=255\n",
        "    else:\n",
        "      gPoint[h,w]=0\n",
        "\n",
        "\n",
        "plt.imshow(gPoint,cmap='gray')"
      ],
      "metadata": {
        "id": "KmkMNLDCVJoF"
      },
      "execution_count": null,
      "outputs": []
    },
    {
      "cell_type": "code",
      "source": [
        "numOFClip=3\n",
        "modVal=256/numOFClip\n",
        "\n",
        "for h in range(gImg1.shape[0]):\n",
        "  for w in range(gImg1.shape[1]):\n",
        "    pointVal=np.int32(gImg1[h,w])%modVal\n",
        "    gPoint[h,w]=pointVal*numOFClip\n",
        "\n",
        "\n",
        "plt.imshow(gPoint,cmap='gray',vmin=0,vmax=255)"
      ],
      "metadata": {
        "id": "T7z7aKm0X0X_"
      },
      "execution_count": null,
      "outputs": []
    }
  ]
}