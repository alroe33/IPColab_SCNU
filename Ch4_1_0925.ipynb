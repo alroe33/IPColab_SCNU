{
  "nbformat": 4,
  "nbformat_minor": 0,
  "metadata": {
    "colab": {
      "private_outputs": true,
      "provenance": []
    },
    "kernelspec": {
      "name": "python3",
      "display_name": "Python 3"
    },
    "language_info": {
      "name": "python"
    }
  },
  "cells": [
    {
      "cell_type": "code",
      "execution_count": null,
      "metadata": {
        "id": "9MPnBr-deizY"
      },
      "outputs": [],
      "source": [
        "from google.colab import drive\n",
        "from google.colab.patches import cv2_imshow\n",
        "import cv2\n",
        "import numpy as np\n",
        "import matplotlib.pyplot as plt\n",
        "\n",
        "drive.mount('/content/drive')"
      ]
    },
    {
      "cell_type": "code",
      "source": [
        "def saturation(val):\n",
        "    if val > 255:\n",
        "      return 255\n",
        "    elif val < 0:\n",
        "      return 0\n",
        "    else:\n",
        "      return val"
      ],
      "metadata": {
        "id": "UWZxOioahMtN"
      },
      "execution_count": null,
      "outputs": []
    },
    {
      "cell_type": "code",
      "source": [
        "img=cv2.imread('/content/drive/MyDrive/IP/Images/camera.bmp')\n",
        "print(img.shape)\n",
        "gImg1=cv2.cvtColor(img,cv2.COLOR_BGR2GRAY)\n",
        "plt.imshow(gImg1,cmap='gray')"
      ],
      "metadata": {
        "id": "77XU8-VJewLl"
      },
      "execution_count": null,
      "outputs": []
    },
    {
      "cell_type": "code",
      "source": [
        "LUT=np.zeros(256, dtype=np.ubyte)"
      ],
      "metadata": {
        "id": "Y8iTGbgJfMDN"
      },
      "execution_count": null,
      "outputs": []
    },
    {
      "cell_type": "code",
      "source": [
        "gPoint=np.zeros((gImg1.shape[0], gImg1.shape[1]), dtype=np.ubyte)"
      ],
      "metadata": {
        "id": "zWfWCDmrfd0c"
      },
      "execution_count": null,
      "outputs": []
    },
    {
      "cell_type": "code",
      "source": [
        "for i in range(256):\n",
        "    val=255*(np.float32(i)/128-1)*(np.float32(i)/128-1)\n",
        "    LUT[i]=saturation(val);"
      ],
      "metadata": {
        "id": "iIVdX38ffuTV"
      },
      "execution_count": null,
      "outputs": []
    },
    {
      "cell_type": "code",
      "source": [
        "for h in range(gImg1.shape[0]):\n",
        "    for w in range(gImg1.shape[1]):\n",
        "        gPoint[h,w]=LUT[gImg1[h,w]]\n",
        "\n",
        "plt.imshow(gPoint,cmap='gray')"
      ],
      "metadata": {
        "id": "tWMtYiFsgeqV"
      },
      "execution_count": null,
      "outputs": []
    },
    {
      "cell_type": "code",
      "source": [
        "img=cv2.imread('/content/drive/MyDrive/IP/Images/background.bmp')\n",
        "print(img.shape)\n",
        "gImg2=cv2.cvtColor(img,cv2.COLOR_BGR2GRAY)\n",
        "plt.imshow(gImg2,cmap='gray')"
      ],
      "metadata": {
        "id": "L-E6XNeBibc5"
      },
      "execution_count": null,
      "outputs": []
    },
    {
      "cell_type": "code",
      "source": [
        "print(gImg2[100,100])"
      ],
      "metadata": {
        "id": "ypv0IatyisjU"
      },
      "execution_count": null,
      "outputs": []
    },
    {
      "cell_type": "code",
      "source": [
        "for h in range(gImg1.shape[0]):\n",
        "    for w in range(gImg1.shape[1]):\n",
        "        val=np.float32(gImg1[h,w])/np.float32(gImg2[h,w])\n",
        "        gPoint[h,w]=saturation(val*200)\n",
        "\n",
        "#plt.imshow(gPoint,cmap='gray')\n",
        "cv2_imshow(gPoint)"
      ],
      "metadata": {
        "id": "DZXtUk2Qi8hF"
      },
      "execution_count": null,
      "outputs": []
    }
  ]
}