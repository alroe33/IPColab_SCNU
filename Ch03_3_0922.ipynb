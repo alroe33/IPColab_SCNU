{
  "nbformat": 4,
  "nbformat_minor": 0,
  "metadata": {
    "colab": {
      "private_outputs": true,
      "provenance": []
    },
    "kernelspec": {
      "name": "python3",
      "display_name": "Python 3"
    },
    "language_info": {
      "name": "python"
    }
  },
  "cells": [
    {
      "cell_type": "code",
      "execution_count": null,
      "metadata": {
        "id": "-jkv2IFlbVdh"
      },
      "outputs": [],
      "source": [
        "from google.colab import drive\n",
        "from google.colab.patches import cv2_imshow\n",
        "import cv2\n",
        "import numpy as np\n",
        "import matplotlib.pyplot as plt\n",
        "\n",
        "drive.mount('/content/drive')"
      ]
    },
    {
      "cell_type": "code",
      "source": [
        "img=cv2.imread('/content/drive/MyDrive/IP/Images/abcdef.bmp')\n",
        "print(img.shape)\n",
        "gImg1=cv2.cvtColor(img,cv2.COLOR_BGR2GRAY)\n",
        "plt.imshow(gImg1,cmap='gray')"
      ],
      "metadata": {
        "id": "wmx4R56Ibjra"
      },
      "execution_count": null,
      "outputs": []
    },
    {
      "cell_type": "code",
      "source": [
        "def saturation(val):\n",
        "    if val > 255:\n",
        "      return 255\n",
        "    elif val < 0:\n",
        "      return 0\n",
        "    else:\n",
        "      return val"
      ],
      "metadata": {
        "id": "37NqAWKbb20m"
      },
      "execution_count": null,
      "outputs": []
    },
    {
      "cell_type": "code",
      "source": [
        "gPoint=np.zeros((gImg1.shape[0],gImg1.shape[1]),dtype=np.ubyte)"
      ],
      "metadata": {
        "id": "05LHnzB-b5fG"
      },
      "execution_count": null,
      "outputs": []
    },
    {
      "cell_type": "code",
      "source": [
        "img=cv2.imread('/content/drive/MyDrive/IP/Images/a.bmp')\n",
        "print(img.shape)\n",
        "gImg2=cv2.cvtColor(img,cv2.COLOR_BGR2GRAY)\n",
        "plt.imshow(gImg2,cmap='gray')"
      ],
      "metadata": {
        "id": "N3Q_7kkbcDFm"
      },
      "execution_count": null,
      "outputs": []
    },
    {
      "cell_type": "code",
      "source": [
        "for h in range(gImg1.shape[0]):\n",
        "  for w in range(gImg1.shape[1]):\n",
        "    #pointVal=np.int32(gImg1[h,w]) & np.int32(gImg2[h,w])\n",
        "    pointVal=np.int32(gImg1[h,w]) | np.int32(gImg2[h,w])\n",
        "    gPoint[h,w]=saturation(pointVal)\n",
        "\n",
        "\n",
        "plt.imshow(gPoint,cmap='gray')"
      ],
      "metadata": {
        "id": "s6Uz41-icdvX"
      },
      "execution_count": null,
      "outputs": []
    },
    {
      "cell_type": "code",
      "source": [
        "img=cv2.imread('/content/drive/MyDrive/IP/Images/lena256.jpg')\n",
        "print(img.shape)\n",
        "gImg2=cv2.cvtColor(img,cv2.COLOR_BGR2GRAY)\n",
        "plt.imshow(gImg2,cmap='gray')"
      ],
      "metadata": {
        "id": "LIqBE1RddE0A"
      },
      "execution_count": null,
      "outputs": []
    },
    {
      "cell_type": "code",
      "source": [
        "planeNum=8\n",
        "planeValue=1\n",
        "\n",
        "for i in range(planeNum-1):\n",
        "    planeValue *= 2\n",
        "\n",
        "for h in range(gImg2.shape[0]):\n",
        "  for w in range(gImg2.shape[1]):\n",
        "    imValue=gImg2[h,w]\n",
        "    imValue=(int)(imValue/planeValue);\n",
        "    if(imValue%2==0):\n",
        "      imValue=0\n",
        "    else:\n",
        "      imValue=255\n",
        "    gPoint[h,w]=imValue\n",
        "\n",
        "plt.imshow(gPoint,cmap='gray')"
      ],
      "metadata": {
        "id": "i8Qe1rXvdqMR"
      },
      "execution_count": null,
      "outputs": []
    },
    {
      "cell_type": "code",
      "source": [
        "gWaterMarker=gImg2.copy()"
      ],
      "metadata": {
        "id": "Ia88yNNQgBmh"
      },
      "execution_count": null,
      "outputs": []
    },
    {
      "cell_type": "code",
      "source": [
        "for h in range(gImg2.shape[0]):\n",
        "  for w in range(gImg2.shape[1]):\n",
        "    imValue=gImg1[h,w]\n",
        "    if(imValue>=128):\n",
        "        if(gWaterMarker[h,w] %2 ==0):\n",
        "            gWaterMarker[h,w] +=1\n",
        "    else:\n",
        "        if(gWaterMarker[h,w]%2==1):\n",
        "            gWaterMarker[h,w] -=1\n",
        "\n",
        "plt.imshow(gWaterMarker,cmap='gray')"
      ],
      "metadata": {
        "id": "qiOje44vgWiJ"
      },
      "execution_count": null,
      "outputs": []
    }
  ]
}