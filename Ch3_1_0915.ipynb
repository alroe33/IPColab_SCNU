{
  "nbformat": 4,
  "nbformat_minor": 0,
  "metadata": {
    "colab": {
      "private_outputs": true,
      "provenance": []
    },
    "kernelspec": {
      "name": "python3",
      "display_name": "Python 3"
    },
    "language_info": {
      "name": "python"
    }
  },
  "cells": [
    {
      "cell_type": "code",
      "execution_count": null,
      "metadata": {
        "id": "GJa8xcfRcVIF"
      },
      "outputs": [],
      "source": [
        "from google.colab import drive\n",
        "from google.colab.patches import cv2_imshow\n",
        "import cv2\n",
        "import numpy as np\n",
        "import matplotlib.pyplot as plt\n",
        "\n",
        "drive.mount('/content/drive')"
      ]
    },
    {
      "cell_type": "code",
      "source": [
        "img=cv2.imread('/content/drive/MyDrive/IP/Images/aero2.bmp')\n",
        "print(img.shape)\n",
        "gImg1=cv2.cvtColor(img,cv2.COLOR_BGR2GRAY)\n",
        "plt.imshow(gImg1,cmap='gray')"
      ],
      "metadata": {
        "id": "yNqhLHMScgVz"
      },
      "execution_count": null,
      "outputs": []
    },
    {
      "cell_type": "code",
      "source": [
        "img=cv2.imread('/content/drive/MyDrive/IP/Images/milkdrop.bmp')\n",
        "print(img.shape)\n",
        "gImg2=cv2.cvtColor(img,cv2.COLOR_BGR2GRAY)\n",
        "plt.imshow(gImg2,cmap='gray')"
      ],
      "metadata": {
        "id": "KemKph1_dnLs"
      },
      "execution_count": null,
      "outputs": []
    }
  ]
}