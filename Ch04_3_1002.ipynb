{
  "nbformat": 4,
  "nbformat_minor": 0,
  "metadata": {
    "colab": {
      "private_outputs": true,
      "provenance": []
    },
    "kernelspec": {
      "name": "python3",
      "display_name": "Python 3"
    },
    "language_info": {
      "name": "python"
    }
  },
  "cells": [
    {
      "cell_type": "code",
      "execution_count": null,
      "metadata": {
        "id": "istVvO5AlZaa"
      },
      "outputs": [],
      "source": [
        "from google.colab import drive\n",
        "from google.colab.patches import cv2_imshow\n",
        "import cv2\n",
        "import numpy as np\n",
        "import matplotlib.pyplot as plt\n",
        "\n",
        "drive.mount('/content/drive')"
      ]
    },
    {
      "cell_type": "code",
      "source": [
        "#img=cv2.imread('/content/drive/MyDrive/IP/Images/girl.jpg')\n",
        "img=cv2.imread('/content/drive/MyDrive/IP/Images/pentagon.bmp')\n",
        "\n",
        "print(img.shape)\n",
        "gImg1=cv2.cvtColor(img,cv2.COLOR_BGR2GRAY)\n",
        "#plt.imshow(gImg1,cmap='gray')\n",
        "cv2_imshow(gImg1)"
      ],
      "metadata": {
        "id": "FBy_aWSqlng8"
      },
      "execution_count": null,
      "outputs": []
    },
    {
      "cell_type": "code",
      "source": [
        "hist=cv2.calcHist([gImg1],[0],None,[256],[0,255])\n",
        "plt.plot(hist)"
      ],
      "metadata": {
        "id": "vXnJ0OKnlwrb"
      },
      "execution_count": null,
      "outputs": []
    },
    {
      "cell_type": "code",
      "source": [
        "outImg=np.zeros(gImg1.shape, dtype='uint8' )"
      ],
      "metadata": {
        "id": "nJzVdpq5m51L"
      },
      "execution_count": null,
      "outputs": []
    },
    {
      "cell_type": "code",
      "source": [
        "min=0\n",
        "max=200\n",
        "\n",
        "for h in range(gImg1.shape[0]):\n",
        "  for w in range(gImg1.shape[1]):\n",
        "    if gImg1[h,w]<min:\n",
        "      outImg[h,w]=0\n",
        "    elif gImg1[h,w]>max:\n",
        "      outImg[h,w]=255\n",
        "    else:\n",
        "      val=np.int32(gImg1[h,w]-min)*255\n",
        "      val=np.int32(val/(max-min))\n",
        "      outImg[h,w]=val\n",
        "\n",
        "cv2_imshow(outImg)"
      ],
      "metadata": {
        "id": "2G9wrQAnmVjM"
      },
      "execution_count": null,
      "outputs": []
    },
    {
      "cell_type": "code",
      "source": [
        "hist2=cv2.calcHist([outImg],[0],None,[256],[0,255])\n",
        "plt.plot(hist2)"
      ],
      "metadata": {
        "id": "V8KhpI-1obBU"
      },
      "execution_count": null,
      "outputs": []
    }
  ]
}