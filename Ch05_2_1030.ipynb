{
  "nbformat": 4,
  "nbformat_minor": 0,
  "metadata": {
    "colab": {
      "private_outputs": true,
      "provenance": []
    },
    "kernelspec": {
      "name": "python3",
      "display_name": "Python 3"
    },
    "language_info": {
      "name": "python"
    }
  },
  "cells": [
    {
      "cell_type": "code",
      "execution_count": null,
      "metadata": {
        "id": "5QAXxkAGtecA"
      },
      "outputs": [],
      "source": [
        "from google.colab import drive\n",
        "from google.colab.patches import cv2_imshow\n",
        "import cv2\n",
        "import numpy as np\n",
        "import matplotlib.pyplot as plt\n",
        "\n",
        "drive.mount('/content/drive')"
      ]
    },
    {
      "cell_type": "code",
      "source": [
        "\n",
        "img=cv2.imread('/content/drive/MyDrive/IP/Images/gsy.jpg')\n",
        "\n",
        "print(img.shape)\n",
        "gImg1=cv2.cvtColor(img,cv2.COLOR_BGR2GRAY)\n",
        "#plt.imshow(gImg1,cmap='gray')\n",
        "cv2_imshow(gImg1)"
      ],
      "metadata": {
        "id": "al2j2Yb6t7v3"
      },
      "execution_count": null,
      "outputs": []
    },
    {
      "cell_type": "code",
      "source": [],
      "metadata": {
        "id": "rp3QCOkTuzFH"
      },
      "execution_count": null,
      "outputs": []
    },
    {
      "cell_type": "code",
      "source": [
        "outImg=cv2.blur(gImg1,(7,7))\n",
        "cv2_imshow(outImg)"
      ],
      "metadata": {
        "id": "n7fQNO1puc6_"
      },
      "execution_count": null,
      "outputs": []
    },
    {
      "cell_type": "code",
      "source": [
        "outImg=cv2.GaussianBlur(gImg1,(7,7),5)\n",
        "cv2_imshow(outImg)"
      ],
      "metadata": {
        "id": "0NSO4rqFu8ln"
      },
      "execution_count": null,
      "outputs": []
    },
    {
      "cell_type": "code",
      "source": [
        "outImg=cv2.medianBlur(gImg1,7)\n",
        "cv2_imshow(outImg)"
      ],
      "metadata": {
        "id": "XPksJXEVvMK4"
      },
      "execution_count": null,
      "outputs": []
    },
    {
      "cell_type": "code",
      "source": [
        "outImage=gImg1.copy()\n",
        "blurImage=cv2.medianBlur(outImage,7)\n",
        "\n",
        "x = 280\n",
        "y = 280 -5\n",
        "size = 10\n",
        "\n",
        "for h in range(y-size,y+size):\n",
        "  for w in range(x-size,x+size):\n",
        "    #outImage[h] [w] = 255\n",
        "    outImage[h] [w] = blurImage[h] [w]\n",
        "\n",
        "cv2_imshow(outImage)"
      ],
      "metadata": {
        "id": "P9OY9avtvlMy"
      },
      "execution_count": null,
      "outputs": []
    },
    {
      "cell_type": "code",
      "source": [
        "\n",
        "img=cv2.imread('/content/drive/MyDrive/IP/Images/lena256.jpg')\n",
        "\n",
        "print(img.shape)\n",
        "gImg1=cv2.cvtColor(img,cv2.COLOR_BGR2GRAY)\n",
        "#plt.imshow(gImg1,cmap='gray')\n",
        "cv2_imshow(gImg1)"
      ],
      "metadata": {
        "id": "fVFbav9CwqvZ"
      },
      "execution_count": null,
      "outputs": []
    },
    {
      "cell_type": "code",
      "source": [
        "outImg=cv2.GaussianBlur(gImg1,(7,7),1)\n",
        "cv2_imshow(outImg)"
      ],
      "metadata": {
        "id": "Y2L15aa7zQLR"
      },
      "execution_count": null,
      "outputs": []
    },
    {
      "cell_type": "code",
      "source": [
        "edgeImage=cv2.addWeighted(gImg1,1,outImg,-1,0)\n",
        "cv2_imshow(edgeImage)"
      ],
      "metadata": {
        "id": "TJgC1wpgzYQw"
      },
      "execution_count": null,
      "outputs": []
    },
    {
      "cell_type": "code",
      "source": [
        "unsharpImgage=cv2.addWeighted(gImg1,1,edgeImage,2,0)\n",
        "cv2_imshow(unsharpImgage)"
      ],
      "metadata": {
        "id": "E_BSVGZdzvzQ"
      },
      "execution_count": null,
      "outputs": []
    },
    {
      "cell_type": "code",
      "source": [
        "kernel3 = np.ones((3,3),np.float32)/9\n",
        "kernel5 = np.ones((5,5),np.float32)/25\n",
        "kernel7 = np.ones((7,7),np.float32)/49\n",
        "\n",
        "kernel3[0][0]=-1/9\n",
        "kernel3[0][1]=-1/9\n",
        "kernel3[0][2]=-1/9\n",
        "kernel3[1][0]=-1/9\n",
        "kernel3[1][1]=17/9\n",
        "kernel3[1][2]=-1/9\n",
        "kernel3[2][0]=-1/9\n",
        "kernel3[2][1]=-1/9\n",
        "kernel3[2][2]=-1/9"
      ],
      "metadata": {
        "id": "3SHDTPcq02Ir"
      },
      "execution_count": null,
      "outputs": []
    },
    {
      "cell_type": "code",
      "source": [
        "output = cv2.filter2D(gImg1,-1,kernel3)\n",
        "cv2_imshow(output)"
      ],
      "metadata": {
        "id": "orJcQLZs03jo"
      },
      "execution_count": null,
      "outputs": []
    }
  ]
}