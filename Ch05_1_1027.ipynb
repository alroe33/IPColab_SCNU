{
  "nbformat": 4,
  "nbformat_minor": 0,
  "metadata": {
    "colab": {
      "private_outputs": true,
      "provenance": []
    },
    "kernelspec": {
      "name": "python3",
      "display_name": "Python 3"
    },
    "language_info": {
      "name": "python"
    }
  },
  "cells": [
    {
      "cell_type": "code",
      "execution_count": null,
      "metadata": {
        "id": "heTmZ3pKr3DL"
      },
      "outputs": [],
      "source": [
        "from google.colab import drive\n",
        "from google.colab.patches import cv2_imshow\n",
        "import cv2\n",
        "import numpy as np\n",
        "import matplotlib.pyplot as plt\n",
        "\n",
        "drive.mount('/content/drive')"
      ]
    },
    {
      "cell_type": "code",
      "source": [
        "\n",
        "img=cv2.imread('/content/drive/MyDrive/IP/Images/lena256.jpg')\n",
        "\n",
        "print(img.shape)\n",
        "gImg1=cv2.cvtColor(img,cv2.COLOR_BGR2GRAY)\n",
        "#plt.imshow(gImg1,cmap='gray')\n",
        "cv2_imshow(gImg1)"
      ],
      "metadata": {
        "id": "k-9cDnEMsAWg"
      },
      "execution_count": null,
      "outputs": []
    },
    {
      "cell_type": "code",
      "source": [
        "def saturation(value):\n",
        "    if(value>255):\n",
        "        value = 255\n",
        "    elif(value<0):\n",
        "        value = 0\n",
        "    return value"
      ],
      "metadata": {
        "id": "S-fX4BwLsRpK"
      },
      "execution_count": null,
      "outputs": []
    },
    {
      "cell_type": "code",
      "source": [
        "kernel3 = np.ones((3,3),np.float32)/9\n",
        "kernel5 = np.ones((5,5),np.float32)/25\n",
        "kernel7 = np.ones((7,7),np.float32)/49"
      ],
      "metadata": {
        "id": "OPC_NaWTspHW"
      },
      "execution_count": null,
      "outputs": []
    },
    {
      "cell_type": "code",
      "source": [
        "output = cv2.filter2D(gImg1,-1,kernel3)\n",
        "cv2_imshow(output)"
      ],
      "metadata": {
        "id": "_-Dz7-qstGrL"
      },
      "execution_count": null,
      "outputs": []
    },
    {
      "cell_type": "code",
      "source": [
        "output = cv2.filter2D(gImg1,-1,kernel5)\n",
        "cv2_imshow(output)"
      ],
      "metadata": {
        "id": "iBfe9UQwbQYt"
      },
      "execution_count": null,
      "outputs": []
    },
    {
      "cell_type": "code",
      "source": [
        "output = cv2.filter2D(output,-1,kernel7)\n",
        "cv2_imshow(output)"
      ],
      "metadata": {
        "id": "MxXZYPf1tS78"
      },
      "execution_count": null,
      "outputs": []
    },
    {
      "cell_type": "code",
      "source": [
        "gOut = np.zeros((gImg1.shape[0],gImg1.shape[1]), dtype=np.ubyte)"
      ],
      "metadata": {
        "id": "GNyLAACMtc_m"
      },
      "execution_count": null,
      "outputs": []
    },
    {
      "cell_type": "code",
      "source": [
        "for h in range(1,gImg1.shape[0]-1):\n",
        "    for w in range(1,gImg1.shape[1]-1):\n",
        "        sum=0\n",
        "        for i in range(-1,2):\n",
        "            for j in range(-1,2):\n",
        "                sum+=gImg1[h+i,w+j] * kernel3[i+1,j+1]\n",
        "            sum=saturation(sum)\n",
        "        gOut[h,w]=sum\n",
        "\n",
        "cv2_imshow(gOut)"
      ],
      "metadata": {
        "id": "5W7dhlBZt2xB"
      },
      "execution_count": null,
      "outputs": []
    },
    {
      "cell_type": "code",
      "source": [
        "kernel3[0][0]=-1/9\n",
        "kernel3[0][1]=-1/9\n",
        "kernel3[0][2]=-1/9\n",
        "kernel3[1][0]=-1/9\n",
        "kernel3[1][1]=8/9\n",
        "kernel3[1][2]=-1/9\n",
        "kernel3[2][0]=-1/9\n",
        "kernel3[2][1]=-1/9\n",
        "kernel3[2][2]=-1/9"
      ],
      "metadata": {
        "id": "rlUcYGdDeTH1"
      },
      "execution_count": null,
      "outputs": []
    },
    {
      "cell_type": "code",
      "source": [
        "output = cv2.filter2D(gImg1,-1,kernel3)\n",
        "output=output*5\n",
        "plt.imshow(output,cmap='gray')\n",
        "\n",
        "#cv2_imshow(output)"
      ],
      "metadata": {
        "id": "NJeiNJ3Zfrxt"
      },
      "execution_count": null,
      "outputs": []
    },
    {
      "cell_type": "code",
      "source": [
        "img=cv2.imread('/content/drive/MyDrive/IP/Images/fcespnosie.bmp')\n",
        "#img=cv2.imread('/content/drive/MyDrive/IP/Images/Lenag2.jpg')\n",
        "\n",
        "print(img.shape)\n",
        "gImg1=cv2.cvtColor(img,cv2.COLOR_BGR2GRAY)\n",
        "#plt.imshow(gImg1,cmap='gray')\n",
        "cv2_imshow(gImg1)"
      ],
      "metadata": {
        "id": "xkIRUzzUgCKw"
      },
      "execution_count": null,
      "outputs": []
    },
    {
      "cell_type": "code",
      "source": [
        "outImg=cv2.blur(gImg1,(3,3))\n",
        "#cv2_imshow(outImg)\n",
        "plt.imshow(outImg,cmap='gray')"
      ],
      "metadata": {
        "id": "Tu7q3vq_kUg2"
      },
      "execution_count": null,
      "outputs": []
    },
    {
      "cell_type": "code",
      "source": [
        "outImg = cv2.medianBlur(gImg1,3)\n",
        "plt.imshow(outImg,cmap='gray')\n"
      ],
      "metadata": {
        "id": "RnEuMKhekt3D"
      },
      "execution_count": null,
      "outputs": []
    }
  ]
}